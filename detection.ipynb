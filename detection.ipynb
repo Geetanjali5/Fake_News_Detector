{
 "cells": [
  {
   "cell_type": "code",
   "execution_count": null,
   "id": "48f8817d",
   "metadata": {},
   "outputs": [
    {
     "name": "stdout",
     "output_type": "stream",
     "text": [
      " Model Accuracy: 95.60%\n",
      "\n",
      "Classification Report:\n",
      "               precision    recall  f1-score   support\n",
      "\n",
      "           0       0.96      0.95      0.95       469\n",
      "           1       0.95      0.96      0.96       531\n",
      "\n",
      "    accuracy                           0.96      1000\n",
      "   macro avg       0.96      0.96      0.96      1000\n",
      "weighted avg       0.96      0.96      0.96      1000\n",
      "\n",
      " Model and vectorizer saved successfully.\n"
     ]
    }
   ],
   "source": [
    "import pandas as pd\n",
    "import joblib\n",
    "import re\n",
    "import string\n",
    "from sklearn.model_selection import train_test_split\n",
    "from sklearn.feature_extraction.text import TfidfVectorizer\n",
    "from sklearn.linear_model import LogisticRegression\n",
    "from sklearn.metrics import accuracy_score, classification_report\n",
    "\n",
    "#  Step 1: Load reduced dataset\n",
    "df = pd.read_csv(\"news_dataset_small.csv\")  \n",
    "\n",
    "#  Step 2: Check required columns\n",
    "if \"text\" not in df.columns or \"label\" not in df.columns:\n",
    "    raise ValueError(\"CSV must contain 'text' and 'label' columns\")\n",
    "\n",
    "#  Step 3: Drop any NaN values\n",
    "df = df[['text', 'label']].dropna()\n",
    "\n",
    "#  Step 4: Split data\n",
    "X_train, X_test, y_train, y_test = train_test_split(\n",
    "    df[\"text\"], df[\"label\"], test_size=0.2, random_state=42, stratify=df[\"label\"]\n",
    ")\n",
    "\n",
    "#  Step 5: TF-IDF Vectorization\n",
    "vectorizer = TfidfVectorizer(stop_words='english', max_df=0.7)\n",
    "X_train_vec = vectorizer.fit_transform(X_train)\n",
    "X_test_vec = vectorizer.transform(X_test)\n",
    "\n",
    "#  Step 6: Train model\n",
    "model = LogisticRegression()\n",
    "model.fit(X_train_vec, y_train)\n",
    "\n",
    "#  Step 7: Evaluate model\n",
    "y_pred = model.predict(X_test_vec)\n",
    "print(f\" Model Accuracy: {accuracy_score(y_test, y_pred):.2%}\")\n",
    "print(\"\\nClassification Report:\\n\", classification_report(y_test, y_pred))\n",
    "\n",
    "#  Step 8: Save model and vectorizer\n",
    "joblib.dump(model, \"lr_model.jb\")\n",
    "joblib.dump(vectorizer, \"vectorizer.jb\")\n",
    "print(\" Model and vectorizer saved successfully.\")\n"
   ]
  }
 ],
 "metadata": {
  "kernelspec": {
   "display_name": "Python 3",
   "language": "python",
   "name": "python3"
  },
  "language_info": {
   "codemirror_mode": {
    "name": "ipython",
    "version": 3
   },
   "file_extension": ".py",
   "mimetype": "text/x-python",
   "name": "python",
   "nbconvert_exporter": "python",
   "pygments_lexer": "ipython3",
   "version": "3.8.8"
  }
 },
 "nbformat": 4,
 "nbformat_minor": 5
}
